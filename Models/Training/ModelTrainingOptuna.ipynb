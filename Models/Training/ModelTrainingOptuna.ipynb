{
  "cells": [
    {
      "cell_type": "markdown",
      "metadata": {
        "colab_type": "text",
        "id": "view-in-github"
      },
      "source": [
        "<a href=\"https://colab.research.google.com/github/alaabakk/E2504_bachelor/blob/main/Models/Training/ModelTrainingOptuna.ipynb\" target=\"_parent\"><img src=\"https://colab.research.google.com/assets/colab-badge.svg\" alt=\"Open In Colab\"/></a>"
      ]
    },
    {
      "cell_type": "code",
      "execution_count": null,
      "metadata": {
        "collapsed": true,
        "id": "vwn-apseX6WW"
      },
      "outputs": [],
      "source": [
        "from google.colab import drive\n",
        "drive.mount('/content/drive') # Mounts Google Drive to access files stored in your Drive"
      ]
    },
    {
      "cell_type": "code",
      "execution_count": null,
      "metadata": {
        "collapsed": true,
        "id": "Hsc1g1gwrzG7"
      },
      "outputs": [],
      "source": [
        "!pip install ultralytics optuna roboflow # Installs required packages for YOLO training, hyperparameter optimization, and dataset handling"
      ]
    },
    {
      "cell_type": "code",
      "execution_count": null,
      "metadata": {
        "collapsed": true,
        "id": "EK4DgKfI4wmX"
      },
      "outputs": [],
      "source": [
        "!nvidia-smi # Displays GPU information\n",
        "\n",
        "from ultralytics import YOLO # Imports the YOLO class from the Ultralytics package\n",
        "import os # Imports the os module for interacting with the operating system\n",
        "!yolo checks # Runs a check to verify the YOLO environment and dependencies"
      ]
    },
    {
      "cell_type": "code",
      "execution_count": null,
      "metadata": {
        "collapsed": true,
        "id": "lRnr8ugd8CIw"
      },
      "outputs": [],
      "source": [
        "#Dataset downloaded from RoboFlow, this snippet can be found in your RoboFlow user with the correct API_key and project workspace\n",
        "\n",
        "from roboflow import Roboflow\n",
        "rf = Roboflow(api_key=\"YOUR_API_KEY\")\n",
        "project = rf.workspace(\"YOUR_API_WORKSPACE\").project(\"YOUR_API_PROJECT\")\n",
        "version = project.version(1) # Replace with the version number you want to download\n",
        "dataset = version.download(\"yolov8\") "
      ]
    },
    {
      "cell_type": "code",
      "execution_count": null,
      "metadata": {
        "id": "04dhIAPSsEqY"
      },
      "outputs": [],
      "source": [
        "# Imports\n",
        "import os\n",
        "import time\n",
        "import pandas as pd\n",
        "import optuna\n",
        "from optuna.samplers import TPESampler\n",
        "from optuna.pruners  import SuccessiveHalvingPruner\n",
        "from datetime import datetime as dt\n",
        "from zoneinfo import ZoneInfo as zi\n",
        "\n",
        "# Create root directory for this training session\n",
        "# Output folder is timestamped for uniqueness and traceability\n",
        "drive_base = \"/content/drive/MyDrive/Your_Folder\" # Change this to the folder where you want to save your results\n",
        "os.makedirs(drive_base, exist_ok=True)\n",
        "\n",
        "timestamp = dt.now(zi(\"Europe/Oslo\")).strftime(\"%Y%m%d_%H%M\")\n",
        "model_file = \"yolov8n.pt\" # Chose the model you want to train, yolov8n.pt is the smallest and fastest model. You can also use yolov8s.pt, yolov8m.pt, yolov8l.pt, or yolov8x.pt for larger models\n",
        "base_name  = os.path.splitext(os.path.basename(model_file))[0]\n",
        "root_dir   = os.path.join(drive_base, f\"{base_name}_{timestamp}\")\n",
        "os.makedirs(root_dir, exist_ok=True)\n",
        "\n",
        "print(f\"All output will be saved to: {root_dir}\")\n",
        "\n",
        "# Define the Optuna objective function\n",
        "def objective(trial):\n",
        "    # 1) Suggest hyperparameters within defined search space\n",
        "    lr0          = trial.suggest_float(\"lr0\",          1e-5, 1e-1, log=True) \n",
        "    momentum     = trial.suggest_float(\"momentum\",     0.6,  0.98)\n",
        "    weight_decay = trial.suggest_float(\"weight_decay\", 1e-6, 1e-3, log=True)\n",
        "    optimizer    = trial.suggest_categorical(\"optimizer\", [\"SGD\",\"Adam\"])\n",
        "    batch        = trial.suggest_int(\"batch\",           8,   32)\n",
        "\n",
        "    # 2) Load model and define pruning callback based on validation mAP\n",
        "    model = YOLO(model_file)\n",
        "    def prune_callback(trainer):\n",
        "        epoch = trainer.epoch\n",
        "        score = trainer.metrics.get(\"metrics/mAP50-95(B)\")\n",
        "        if score is None:\n",
        "            return\n",
        "        trial.report(score, step=epoch)\n",
        "        if trial.should_prune():\n",
        "            raise optuna.exceptions.TrialPruned()\n",
        "    model.add_callback(\"on_fit_epoch_end\", prune_callback)\n",
        "\n",
        "    # 3) Train model using suggested hyperparameters\n",
        "    run_name = f\"training{trial.number}\"\n",
        "    results = model.train(\n",
        "        data         = \"/content/Your_data.yaml_file\", #Path to data.yaml file uploaded from RoboFlow\n",
        "        epochs       = 300, # Number of epochs to train\n",
        "        imgsz        = 640, # Image size for training\n",
        "        lr0          = lr0, \n",
        "        momentum     = momentum,\n",
        "        weight_decay = weight_decay,\n",
        "        optimizer    = optimizer,\n",
        "        batch        = batch,\n",
        "        project      = root_dir,\n",
        "        name         = run_name,\n",
        "        exist_ok     = False,\n",
        "        verbose      = False\n",
        "    )\n",
        "\n",
        "    # 4) Read the results CSV and return the best mAP50-95\n",
        "    results_csv = os.path.join(results.save_dir, \"results.csv\")\n",
        "    for _ in range(5):\n",
        "        if os.path.exists(results_csv):\n",
        "            break\n",
        "        time.sleep(1)\n",
        "    df = pd.read_csv(results_csv)\n",
        "    return df[\"metrics/mAP50-95(B)\"].max()\n",
        "\n",
        "# 5) Run the Optuna hyperparameter study\n",
        "if __name__ == \"__main__\":\n",
        "    sampler = TPESampler()\n",
        "    pruner  = SuccessiveHalvingPruner()\n",
        "    db_path = os.path.join(root_dir, f\"optuna_study.db\")\n",
        "\n",
        "    study = optuna.create_study(\n",
        "        study_name = \"yolo_study\",\n",
        "        storage    = f\"sqlite:///{db_path}\",\n",
        "        sampler    = sampler,\n",
        "        pruner     = pruner,\n",
        "        direction  = \"maximize\",\n",
        "        load_if_exists = True\n",
        "    )\n",
        "    study.optimize(objective, n_trials=100) # Number of trials to run, with TPE sampler and pruning bewteen 100 and 1000 is recommended\n",
        "\n",
        "    # 6) Save and print results\n",
        "    best_trial = study.best_trial\n",
        "    best_training_name = f\"training{best_trial.number}\"\n",
        "\n",
        "    print(\"Best hyperparameters:\", best_trial.params)\n",
        "    print(f\"Best mAP50-95: {best_trial.value:.4f}\")\n",
        "    print(f\"Best training run: {best_training_name}\")\n",
        "\n",
        "    # Save all trial history to CSV\n",
        "    study.trials_dataframe().to_csv(os.path.join(root_dir, \"optuna_trials.csv\"), index=False)\n",
        "    print(f\"Optuna history saved to: {os.path.join(root_dir, 'optuna_trials.csv')}\")\n",
        "\n",
        "\n"
      ]
    }
  ],
  "metadata": {
    "colab": {
      "authorship_tag": "ABX9TyMPSzoYFnI24aSbI3kXz2cD",
      "include_colab_link": true,
      "machine_shape": "hm",
      "mount_file_id": "1wwWLeSer5EgguqDIgk3QMg8Pl8_RIVMx",
      "provenance": []
    },
    "kernelspec": {
      "display_name": "Python 3",
      "name": "python3"
    },
    "language_info": {
      "name": "python"
    }
  },
  "nbformat": 4,
  "nbformat_minor": 0
}
